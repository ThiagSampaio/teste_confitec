{
  "nbformat": 4,
  "nbformat_minor": 0,
  "metadata": {
    "colab": {
      "provenance": [],
      "toc_visible": true,
      "mount_file_id": "1liN7NJ3y7Qau_DD1gghpx353T7YJl-eL",
      "authorship_tag": "ABX9TyN06diwHys5ePDflrNLU/LF",
      "include_colab_link": true
    },
    "kernelspec": {
      "name": "python3",
      "display_name": "Python 3"
    },
    "language_info": {
      "name": "python"
    }
  },
  "cells": [
    {
      "cell_type": "markdown",
      "metadata": {
        "id": "view-in-github",
        "colab_type": "text"
      },
      "source": [
        "<a href=\"https://colab.research.google.com/github/ThiagSampaio/teste_confitec/blob/master/TESTEPYSPARK_Confitec.ipynb\" target=\"_parent\"><img src=\"https://colab.research.google.com/assets/colab-badge.svg\" alt=\"Open In Colab\"/></a>"
      ]
    },
    {
      "cell_type": "markdown",
      "source": [
        "# Teste Confitec PySpark\n",
        "\n",
        "O Teste gira em torno de um problema básico de ETL em torno do arquivo <b>OriginaisNetflix.parquet</b>, presente na mesma pasta deste arquivo.<br>\n",
        "\n",
        "Foi escolhido a ferramenta <b>Google Colab</b> para realização deste desafio por sua visualização e simplicidade, porém de forma igualmente simples, poderíamos usar <b> Databricks</b>, <b> AWS EC2 PySpark </b>, <b> AWS EMR Cluster </b> ou até uma <b>Máquina linux local</b>.\n",
        "\n",
        "A Resolução do problema está divido nos seguintes passos:\n",
        "<ul>\n",
        "  <li>1- Configuração do ambiente.</li>\n",
        "  <li>2- Problema <b>número 1</b>.</li>\n",
        "  <li>3- Problema <b>número 3</b>.</li>\n",
        "  <li>4- Problema <b>número 4</b>.</li>\n",
        "  <li>5- Problema <b>número 5</b>.</li>\n",
        "  <li>6- Problema <b>número 6</b>.</li>\n",
        "  <li>7- Problema <b>número 2*</b>.</li>\n",
        "  <li>8- Problema <b>número 7</b>.</li>\n",
        "  <li>9- Problema <b>número 8</b>.</li>\n",
        "  <li>10- Problema <b>número 9</b>.</li>\n",
        "  <li>11- Considerações finais</b>.</li>\n",
        "</ul>\n",
        "\n",
        "\"*\" O problema <b>número 2</b> foi deixado para o final, pois o pyspark utiliza processamento paralelo, fazendo com que o sort() pedido fosse \"perdido\""
      ],
      "metadata": {
        "id": "n1AgwDwGJrkt"
      }
    },
    {
      "cell_type": "markdown",
      "source": [
        "# 1 - Configuração do ambiente\n",
        " \n",
        "\n"
      ],
      "metadata": {
        "id": "MD0P8MD0OXmq"
      }
    },
    {
      "cell_type": "markdown",
      "source": [
        "## 1.1 -Montando drive e localizando o arquivo.\n",
        "\n",
        "O google Colab não passa de uma VM com notebook instalado. Quando entramos em uma sessão geralmente estamos em uma pasta geral, como mostrado abaixo:\n",
        "\n",
        "```comand-line\n",
        "!ls\n",
        "````\n",
        "Saída :\n"
      ],
      "metadata": {
        "id": "3pM0P2ZBazpC"
      }
    },
    {
      "cell_type": "code",
      "source": [
        "!ls"
      ],
      "metadata": {
        "colab": {
          "base_uri": "https://localhost:8080/"
        },
        "id": "taWEm26sUx6n",
        "outputId": "4f8836d3-1c4e-4ae9-87b4-0567c5714991"
      },
      "execution_count": 1,
      "outputs": [
        {
          "output_type": "stream",
          "name": "stdout",
          "text": [
            "sample_data\n"
          ]
        }
      ]
    },
    {
      "cell_type": "markdown",
      "source": [
        "Vamos então conectar o seu drive na VM. Para isso basta clicar em arquivos (simbolo de pasta do lado esquerdo da tela) depois clicar em <b>montar drive</b>.<br>\n",
        "\n",
        "Depois do drive montado, a saída do comando `!ls` deve aparecer como abaixo:"
      ],
      "metadata": {
        "id": "ZmzerE59WC5p"
      }
    },
    {
      "cell_type": "code",
      "source": [
        "!ls"
      ],
      "metadata": {
        "colab": {
          "base_uri": "https://localhost:8080/"
        },
        "id": "6yg9Aur-WCmN",
        "outputId": "9107a8e9-6ac2-4e64-df97-32b1b082d4ed"
      },
      "execution_count": 3,
      "outputs": [
        {
          "output_type": "stream",
          "name": "stdout",
          "text": [
            "drive  sample_data\n"
          ]
        }
      ]
    },
    {
      "cell_type": "markdown",
      "source": [
        "Feito isso, agora devemos jogar o arquivo <b>OriginaisNetflix.parquet</b> no drive. Existem <b>n</b> formas de fazer. Aqui criei uma pasta no meu drive chamada <b>teste_tecnico_confitec</b> e fiz o upload do arquivo. O leitor pode fazer de outra forma , atentando-se apenas em passar o caminho correto no comando a seguir.<br>\n",
        "Vamos levar nossa VM até o local no qual o arquivo está:\n",
        "\n"
      ],
      "metadata": {
        "id": "564ZFH21YCpl"
      }
    },
    {
      "cell_type": "code",
      "source": [
        "cd drive/MyDrive/teste_tecnico_confitec"
      ],
      "metadata": {
        "colab": {
          "base_uri": "https://localhost:8080/"
        },
        "id": "r06etS22QiBQ",
        "outputId": "8e45de9e-c412-4e44-ba9e-3489ebac97d2"
      },
      "execution_count": 4,
      "outputs": [
        {
          "output_type": "stream",
          "name": "stdout",
          "text": [
            "/content/drive/MyDrive/teste_tecnico_confitec\n"
          ]
        }
      ]
    },
    {
      "cell_type": "code",
      "source": [
        "!ls"
      ],
      "metadata": {
        "colab": {
          "base_uri": "https://localhost:8080/"
        },
        "id": "7UIsKt6tQvvr",
        "outputId": "de9055f7-d901-4179-bfb5-6a880763f5b0"
      },
      "execution_count": 5,
      "outputs": [
        {
          "output_type": "stream",
          "name": "stdout",
          "text": [
            "OriginaisNetflix.parquet\n"
          ]
        }
      ]
    },
    {
      "cell_type": "markdown",
      "source": [
        "Note que estamos no local correto e podemos passar para próxima subetapa."
      ],
      "metadata": {
        "id": "uT3jzttza8PO"
      }
    },
    {
      "cell_type": "markdown",
      "source": [
        "\n",
        "## 1.2 - Instalação de pacotes / carregamento do arquivo / Configuração para Comun. AWS\n",
        "\n",
        "- Vamos instalar o pacote pyspark e o pacote boto3(AWS).\n",
        "- Importar as libs usadas.\n",
        "- Configurar e testar a comunicação com s3 bucket.\n",
        "- Carregar o arquivo <b>.parquet</b> para uma variável."
      ],
      "metadata": {
        "id": "MAdHt84YaaL4"
      }
    },
    {
      "cell_type": "code",
      "source": [
        "# Instalação de pacotes\n",
        "!pip install pyspark\n",
        "!pip install boto3"
      ],
      "metadata": {
        "colab": {
          "base_uri": "https://localhost:8080/"
        },
        "id": "8NEDuMmkPZyx",
        "outputId": "b4adb577-d851-420f-ff0b-99776df9970f"
      },
      "execution_count": 6,
      "outputs": [
        {
          "output_type": "stream",
          "name": "stdout",
          "text": [
            "Looking in indexes: https://pypi.org/simple, https://us-python.pkg.dev/colab-wheels/public/simple/\n",
            "Collecting pyspark\n",
            "  Downloading pyspark-3.4.0.tar.gz (310.8 MB)\n",
            "\u001b[2K     \u001b[90m━━━━━━━━━━━━━━━━━━━━━━━━━━━━━━━━━━━━━━━\u001b[0m \u001b[32m310.8/310.8 MB\u001b[0m \u001b[31m4.0 MB/s\u001b[0m eta \u001b[36m0:00:00\u001b[0m\n",
            "\u001b[?25h  Preparing metadata (setup.py) ... \u001b[?25l\u001b[?25hdone\n",
            "Requirement already satisfied: py4j==0.10.9.7 in /usr/local/lib/python3.9/dist-packages (from pyspark) (0.10.9.7)\n",
            "Building wheels for collected packages: pyspark\n",
            "  Building wheel for pyspark (setup.py) ... \u001b[?25l\u001b[?25hdone\n",
            "  Created wheel for pyspark: filename=pyspark-3.4.0-py2.py3-none-any.whl size=311317145 sha256=79a2b620fb76478051b87fe384c3f5c527c27919b9689dda774edc8fa2ed81ee\n",
            "  Stored in directory: /root/.cache/pip/wheels/9f/34/a4/159aa12d0a510d5ff7c8f0220abbea42e5d81ecf588c4fd884\n",
            "Successfully built pyspark\n",
            "Installing collected packages: pyspark\n",
            "Successfully installed pyspark-3.4.0\n",
            "Looking in indexes: https://pypi.org/simple, https://us-python.pkg.dev/colab-wheels/public/simple/\n",
            "Collecting boto3\n",
            "  Downloading boto3-1.26.116-py3-none-any.whl (135 kB)\n",
            "\u001b[2K     \u001b[90m━━━━━━━━━━━━━━━━━━━━━━━━━━━━━━━━━━━━━━\u001b[0m \u001b[32m135.6/135.6 KB\u001b[0m \u001b[31m11.1 MB/s\u001b[0m eta \u001b[36m0:00:00\u001b[0m\n",
            "\u001b[?25hCollecting s3transfer<0.7.0,>=0.6.0\n",
            "  Downloading s3transfer-0.6.0-py3-none-any.whl (79 kB)\n",
            "\u001b[2K     \u001b[90m━━━━━━━━━━━━━━━━━━━━━━━━━━━━━━━━━━━━━━━━\u001b[0m \u001b[32m79.6/79.6 KB\u001b[0m \u001b[31m8.6 MB/s\u001b[0m eta \u001b[36m0:00:00\u001b[0m\n",
            "\u001b[?25hCollecting botocore<1.30.0,>=1.29.116\n",
            "  Downloading botocore-1.29.116-py3-none-any.whl (10.6 MB)\n",
            "\u001b[2K     \u001b[90m━━━━━━━━━━━━━━━━━━━━━━━━━━━━━━━━━━━━━━━━\u001b[0m \u001b[32m10.6/10.6 MB\u001b[0m \u001b[31m51.2 MB/s\u001b[0m eta \u001b[36m0:00:00\u001b[0m\n",
            "\u001b[?25hCollecting jmespath<2.0.0,>=0.7.1\n",
            "  Downloading jmespath-1.0.1-py3-none-any.whl (20 kB)\n",
            "Requirement already satisfied: urllib3<1.27,>=1.25.4 in /usr/local/lib/python3.9/dist-packages (from botocore<1.30.0,>=1.29.116->boto3) (1.26.15)\n",
            "Requirement already satisfied: python-dateutil<3.0.0,>=2.1 in /usr/local/lib/python3.9/dist-packages (from botocore<1.30.0,>=1.29.116->boto3) (2.8.2)\n",
            "Requirement already satisfied: six>=1.5 in /usr/local/lib/python3.9/dist-packages (from python-dateutil<3.0.0,>=2.1->botocore<1.30.0,>=1.29.116->boto3) (1.16.0)\n",
            "Installing collected packages: jmespath, botocore, s3transfer, boto3\n",
            "Successfully installed boto3-1.26.116 botocore-1.29.116 jmespath-1.0.1 s3transfer-0.6.0\n"
          ]
        }
      ]
    },
    {
      "cell_type": "code",
      "execution_count": 7,
      "metadata": {
        "id": "QpN-p5DcPFaG"
      },
      "outputs": [],
      "source": [
        "# Importanto Libs\n",
        "from pyspark.sql import SparkSession\n",
        "from pyspark.sql.functions import *\n",
        "import boto3"
      ]
    },
    {
      "cell_type": "code",
      "source": [
        "#Configurar e testar a comunicação com s3 bucket\n",
        "s3 = boto3.client(\n",
        "    \"s3\",\n",
        "    aws_access_key_id=\"xxxx\",\n",
        "    aws_secret_access_key=\"xxxx\",\n",
        ")\n",
        "s3.list_buckets()"
      ],
      "metadata": {
        "colab": {
          "base_uri": "https://localhost:8080/"
        },
        "id": "_Rqc8-BoeW2O",
        "outputId": "e06f989b-3506-4e5a-f4f9-700d8450e021"
      },
      "execution_count": 8,
      "outputs": [
        {
          "output_type": "execute_result",
          "data": {
            "text/plain": [
              "{'ResponseMetadata': {'RequestId': 'ES0TD2M2YM89CEPA',\n",
              "  'HostId': 'dZzs3mBLvqPRoL78mrlAzCzPZO+Kgr/MuW29bvFSn+ilx/FIHg8xEH7ZZO2s4bRID4UATHeTLZQ=',\n",
              "  'HTTPStatusCode': 200,\n",
              "  'HTTPHeaders': {'x-amz-id-2': 'dZzs3mBLvqPRoL78mrlAzCzPZO+Kgr/MuW29bvFSn+ilx/FIHg8xEH7ZZO2s4bRID4UATHeTLZQ=',\n",
              "   'x-amz-request-id': 'ES0TD2M2YM89CEPA',\n",
              "   'date': 'Thu, 20 Apr 2023 16:23:33 GMT',\n",
              "   'content-type': 'application/xml',\n",
              "   'transfer-encoding': 'chunked',\n",
              "   'server': 'AmazonS3'},\n",
              "  'RetryAttempts': 0},\n",
              " 'Buckets': [{'Name': 'testeconfitec',\n",
              "   'CreationDate': datetime.datetime(2023, 4, 19, 23, 25, 22, tzinfo=tzlocal())}],\n",
              " 'Owner': {'DisplayName': 'thiagosampaioparticular',\n",
              "  'ID': 'f05bb84dc6715bd0e603eecb62aebb767d68ab956fc04fa8f2c48caa1d48352b'}}"
            ]
          },
          "metadata": {},
          "execution_count": 8
        }
      ]
    },
    {
      "cell_type": "markdown",
      "source": [
        "Podemos notar que a comunicação foi um sucesso, listando o bucket <b>  testeconfitec </b> como presente."
      ],
      "metadata": {
        "id": "IyyARoNueqMn"
      }
    },
    {
      "cell_type": "code",
      "source": [
        "#Carregar o arquivo .parquet para uma variável.\n",
        "spark = SparkSession.builder.appName(\"Confitec\").getOrCreate()\n",
        "df = spark.read.parquet(\"OriginaisNetflix.parquet\")\n",
        "df.show()"
      ],
      "metadata": {
        "id": "wk1ZfFyhPOhI",
        "colab": {
          "base_uri": "https://localhost:8080/"
        },
        "outputId": "ee8b9789-7b89-4000-e64d-8ec204622830"
      },
      "execution_count": 9,
      "outputs": [
        {
          "output_type": "stream",
          "name": "stdout",
          "text": [
            "+--------------------+--------------------+--------------------+---------+--------------------+-------------+--------------+-----------+---------+---------+----------+------+-----+--------+--------------------+\n",
            "|               Title|               Genre|         GenreLabels| Premiere|             Seasons|SeasonsParsed|EpisodesParsed|     Length|MinLength|MaxLength|    Status|Active|Table|Language|         dt_inclusao|\n",
            "+--------------------+--------------------+--------------------+---------+--------------------+-------------+--------------+-----------+---------+---------+----------+------+-----+--------+--------------------+\n",
            "|      House of Cards|     Political drama|     political,drama| 1-Feb-13|6 seasons, 73 epi...|            6|            73| 42–59 min.|       42|       59|     Ended|     0|Drama| English|2021-03-16T21:20:...|\n",
            "|       Hemlock Grove|     Horror/thriller|     horror,thriller|19-Apr-13|3 seasons, 33 epi...|            3|            33| 45–58 min.|       45|       58|     Ended|     0|Drama| English|2021-03-16T21:20:...|\n",
            "|Orange Is the New...|        Comedy-drama|        comedy-drama|11-Jul-13|6 seasons, 78 epi...|            6|            78| 50–92 min.|       50|       92|   Renewed|     1|Drama| English|2021-03-16T21:20:...|\n",
            "|          Marco Polo|    Historical drama|    historical,drama|12-Dec-14|2 seasons, 20 epi...|            2|            20| 48–65 min.|       48|       65|     Ended|     0|Drama| English|2021-03-16T21:20:...|\n",
            "|           Bloodline|            Thriller|            thriller|20-Mar-15|3 seasons, 33 epi...|            3|            33| 48–68 min.|       48|       68|     Ended|     0|Drama| English|2021-03-16T21:20:...|\n",
            "|              Sense8|     Science fiction|     science-fiction| 5-Jun-15|2 seasons, 24 epi...|            2|            24|45–152 min.|       45|      152|     Ended|     0|Drama| English|2021-03-16T21:20:...|\n",
            "|              Narcos|         Crime drama|         crime,drama|28-Aug-15|3 seasons, 30 epi...|            3|            30| 43–60 min.|       43|       60|     Ended|     0|Drama| English|2021-03-16T21:20:...|\n",
            "|     Stranger Things|Science fiction/h...|science-fiction,h...|15-Jul-16|2 seasons, 17 epi...|            2|            17| 42–62 min.|       42|       62|   Renewed|     1|Drama| English|2021-03-16T21:20:...|\n",
            "|        The Get Down|       Musical drama|       musical,drama|12-Aug-16|2 parts, 11 episodes|            0|            11| 50–93 min.|       50|       93|     Ended|     0|Drama| English|2021-03-16T21:20:...|\n",
            "|           The Crown|    Historical drama|    historical,drama| 4-Nov-16|2 seasons, 20 epi...|            2|            20| 54–61 min.|       54|       61|   Renewed|     1|Drama| English|2021-03-16T21:20:...|\n",
            "|Gilmore Girls: A ...|        Family drama|        family,drama|25-Nov-16|          4 episodes|            0|             4|88–102 min.|       88|      102|Miniseries|     0|Drama| English|2021-03-16T21:20:...|\n",
            "|              The OA|             Mystery|             mystery|16-Dec-16|2 parts, 16 episodes|            0|            16| 31–71 min.|       31|       71|   Pending|     1|Drama| English|2021-03-16T21:20:...|\n",
            "|A Series of Unfor...|Black-comedy mystery|black-comedy,mystery|13-Jan-17|3 seasons, 25 epi...|            3|            25| 36–64 min.|       36|       64|     Ended|     0|Drama| English|2021-03-16T21:20:...|\n",
            "|      13 Reasons Why|  Teen drama/mystery|  teen,drama,mystery|31-Mar-17|2 seasons, 26 epi...|            2|            26| 49–70 min.|       49|       70|   Renewed|     1|Drama| English|2021-03-16T21:20:...|\n",
            "|               Gypsy|Psychological thr...|psychological,thr...|30-Jun-17|1 season, 10 epis...|            1|            10| 46–58 min.|       46|       58|     Ended|     0|Drama| English|2021-03-16T21:20:...|\n",
            "|               Ozark|         Crime drama|         crime,drama|21-Jul-17|2 seasons, 20 epi...|            2|            20| 52–80 min.|       52|       80|   Renewed|     1|Drama| English|2021-03-16T21:20:...|\n",
            "|          Mindhunter|         Crime drama|         crime,drama|13-Oct-17|1 season, 10 epis...|            1|            10| 34–60 min.|       34|       60|   Renewed|     1|Drama| English|2021-03-16T21:20:...|\n",
            "|             Godless|             Western|             western|22-Nov-17|          7 episodes|            0|             7| 41–80 min.|       41|       80|Miniseries|     0|Drama| English|2021-03-16T21:20:...|\n",
            "|      Altered Carbon|     Science fiction|     science-fiction| 2-Feb-18|1 season, 10 epis...|            1|            10| 46–66 min.|       46|       66|   Renewed|     1|Drama| English|2021-03-16T21:20:...|\n",
            "|       Seven Seconds|         Crime drama|         crime,drama|23-Feb-18|1 season, 10 epis...|            1|            10| 54–80 min.|       54|       80|     Ended|     0|Drama| English|2021-03-16T21:20:...|\n",
            "+--------------------+--------------------+--------------------+---------+--------------------+-------------+--------------+-----------+---------+---------+----------+------+-----+--------+--------------------+\n",
            "only showing top 20 rows\n",
            "\n"
          ]
        }
      ]
    },
    {
      "cell_type": "markdown",
      "source": [
        "<b>Chegamos ao fim da etapa de configuração.</b>"
      ],
      "metadata": {
        "id": "8Szej1LTfVwM"
      }
    },
    {
      "cell_type": "markdown",
      "source": [
        "# 2 - Problema número 1. \n",
        "\n",
        "1- Transformar os campos `Premiere` e `dt_inclusao` de string para datetime.\n",
        "\n",
        "Vamos separar o problema em 3 partes:\n",
        "\n",
        "- Ver se as colunas referidas estão como StringType()\n",
        "- Caso sim: Transformar a coluna `Premiere` e `dt_inclusao` para datetime.\n",
        "- Olhar de forma visual se está ok.\n",
        "- Olhar novamente se foi trocado os tipos."
      ],
      "metadata": {
        "id": "X7w8ekH0fp-0"
      }
    },
    {
      "cell_type": "code",
      "source": [
        "# Ver se as colunas referidas estão como StringType()\n",
        "for field in df.schema.fields:\n",
        "  print(field.name + \" , \" + str(field.dataType))"
      ],
      "metadata": {
        "colab": {
          "base_uri": "https://localhost:8080/"
        },
        "id": "yEiI9jDwflmG",
        "outputId": "5cfa997e-99d4-4231-bcad-b35631d57f06"
      },
      "execution_count": 10,
      "outputs": [
        {
          "output_type": "stream",
          "name": "stdout",
          "text": [
            "Title , StringType()\n",
            "Genre , StringType()\n",
            "GenreLabels , StringType()\n",
            "Premiere , StringType()\n",
            "Seasons , StringType()\n",
            "SeasonsParsed , LongType()\n",
            "EpisodesParsed , LongType()\n",
            "Length , StringType()\n",
            "MinLength , LongType()\n",
            "MaxLength , LongType()\n",
            "Status , StringType()\n",
            "Active , LongType()\n",
            "Table , StringType()\n",
            "Language , StringType()\n",
            "dt_inclusao , StringType()\n"
          ]
        }
      ]
    },
    {
      "cell_type": "markdown",
      "source": [
        "As duas colunas estão como StringType()"
      ],
      "metadata": {
        "id": "OrGACgEOhanp"
      }
    },
    {
      "cell_type": "code",
      "source": [
        "#Caso sim: Transformar a coluna Premiere e dt_inclusao para datetime.\n",
        "spark.conf.set(\"spark.sql.legacy.timeParserPolicy\",\"LEGACY\")\n",
        "df = df.withColumn(\"Premiere\",to_timestamp(\"Premiere\",\"dd-MMM-yy\"))\n",
        "df = df.withColumn(\"dt_inclusao\",date_format(\"dt_inclusao\",\"yyyy-MM-dd HH:mm:ss\"))\n",
        "df = df.withColumn(\"dt_inclusao\",to_timestamp(\"dt_inclusao\",\"yyyy-MM-dd HH:mm:ss\"))"
      ],
      "metadata": {
        "id": "DzX9HOtFcWi4"
      },
      "execution_count": 12,
      "outputs": []
    },
    {
      "cell_type": "code",
      "source": [
        "df.show()"
      ],
      "metadata": {
        "colab": {
          "base_uri": "https://localhost:8080/"
        },
        "id": "De9c9Hp3kYiG",
        "outputId": "b7abcac7-4b78-4b23-af2a-99a50c37c36e"
      },
      "execution_count": 13,
      "outputs": [
        {
          "output_type": "stream",
          "name": "stdout",
          "text": [
            "+--------------------+--------------------+--------------------+-------------------+--------------------+-------------+--------------+-----------+---------+---------+----------+------+-----+--------+-------------------+\n",
            "|               Title|               Genre|         GenreLabels|           Premiere|             Seasons|SeasonsParsed|EpisodesParsed|     Length|MinLength|MaxLength|    Status|Active|Table|Language|        dt_inclusao|\n",
            "+--------------------+--------------------+--------------------+-------------------+--------------------+-------------+--------------+-----------+---------+---------+----------+------+-----+--------+-------------------+\n",
            "|      House of Cards|     Political drama|     political,drama|2013-02-01 00:00:00|6 seasons, 73 epi...|            6|            73| 42–59 min.|       42|       59|     Ended|     0|Drama| English|2021-03-17 00:20:24|\n",
            "|       Hemlock Grove|     Horror/thriller|     horror,thriller|2013-04-19 00:00:00|3 seasons, 33 epi...|            3|            33| 45–58 min.|       45|       58|     Ended|     0|Drama| English|2021-03-17 00:20:24|\n",
            "|Orange Is the New...|        Comedy-drama|        comedy-drama|2013-07-11 00:00:00|6 seasons, 78 epi...|            6|            78| 50–92 min.|       50|       92|   Renewed|     1|Drama| English|2021-03-17 00:20:24|\n",
            "|          Marco Polo|    Historical drama|    historical,drama|2014-12-12 00:00:00|2 seasons, 20 epi...|            2|            20| 48–65 min.|       48|       65|     Ended|     0|Drama| English|2021-03-17 00:20:24|\n",
            "|           Bloodline|            Thriller|            thriller|2015-03-20 00:00:00|3 seasons, 33 epi...|            3|            33| 48–68 min.|       48|       68|     Ended|     0|Drama| English|2021-03-17 00:20:24|\n",
            "|              Sense8|     Science fiction|     science-fiction|2015-06-05 00:00:00|2 seasons, 24 epi...|            2|            24|45–152 min.|       45|      152|     Ended|     0|Drama| English|2021-03-17 00:20:24|\n",
            "|              Narcos|         Crime drama|         crime,drama|2015-08-28 00:00:00|3 seasons, 30 epi...|            3|            30| 43–60 min.|       43|       60|     Ended|     0|Drama| English|2021-03-17 00:20:24|\n",
            "|     Stranger Things|Science fiction/h...|science-fiction,h...|2016-07-15 00:00:00|2 seasons, 17 epi...|            2|            17| 42–62 min.|       42|       62|   Renewed|     1|Drama| English|2021-03-17 00:20:24|\n",
            "|        The Get Down|       Musical drama|       musical,drama|2016-08-12 00:00:00|2 parts, 11 episodes|            0|            11| 50–93 min.|       50|       93|     Ended|     0|Drama| English|2021-03-17 00:20:24|\n",
            "|           The Crown|    Historical drama|    historical,drama|2016-11-04 00:00:00|2 seasons, 20 epi...|            2|            20| 54–61 min.|       54|       61|   Renewed|     1|Drama| English|2021-03-17 00:20:24|\n",
            "|Gilmore Girls: A ...|        Family drama|        family,drama|2016-11-25 00:00:00|          4 episodes|            0|             4|88–102 min.|       88|      102|Miniseries|     0|Drama| English|2021-03-17 00:20:24|\n",
            "|              The OA|             Mystery|             mystery|2016-12-16 00:00:00|2 parts, 16 episodes|            0|            16| 31–71 min.|       31|       71|   Pending|     1|Drama| English|2021-03-17 00:20:24|\n",
            "|A Series of Unfor...|Black-comedy mystery|black-comedy,mystery|2017-01-13 00:00:00|3 seasons, 25 epi...|            3|            25| 36–64 min.|       36|       64|     Ended|     0|Drama| English|2021-03-17 00:20:24|\n",
            "|      13 Reasons Why|  Teen drama/mystery|  teen,drama,mystery|2017-03-31 00:00:00|2 seasons, 26 epi...|            2|            26| 49–70 min.|       49|       70|   Renewed|     1|Drama| English|2021-03-17 00:20:24|\n",
            "|               Gypsy|Psychological thr...|psychological,thr...|2017-06-30 00:00:00|1 season, 10 epis...|            1|            10| 46–58 min.|       46|       58|     Ended|     0|Drama| English|2021-03-17 00:20:24|\n",
            "|               Ozark|         Crime drama|         crime,drama|2017-07-21 00:00:00|2 seasons, 20 epi...|            2|            20| 52–80 min.|       52|       80|   Renewed|     1|Drama| English|2021-03-17 00:20:24|\n",
            "|          Mindhunter|         Crime drama|         crime,drama|2017-10-13 00:00:00|1 season, 10 epis...|            1|            10| 34–60 min.|       34|       60|   Renewed|     1|Drama| English|2021-03-17 00:20:24|\n",
            "|             Godless|             Western|             western|2017-11-22 00:00:00|          7 episodes|            0|             7| 41–80 min.|       41|       80|Miniseries|     0|Drama| English|2021-03-17 00:20:24|\n",
            "|      Altered Carbon|     Science fiction|     science-fiction|2018-02-02 00:00:00|1 season, 10 epis...|            1|            10| 46–66 min.|       46|       66|   Renewed|     1|Drama| English|2021-03-17 00:20:24|\n",
            "|       Seven Seconds|         Crime drama|         crime,drama|2018-02-23 00:00:00|1 season, 10 epis...|            1|            10| 54–80 min.|       54|       80|     Ended|     0|Drama| English|2021-03-17 00:20:24|\n",
            "+--------------------+--------------------+--------------------+-------------------+--------------------+-------------+--------------+-----------+---------+---------+----------+------+-----+--------+-------------------+\n",
            "only showing top 20 rows\n",
            "\n"
          ]
        }
      ]
    },
    {
      "cell_type": "markdown",
      "source": [
        "Note que precisamos utilizar um tratamento prévio para `dt_inclusao` pois estava no formato `ISO8061`, não perdendo a informação de timezone."
      ],
      "metadata": {
        "id": "Isyg6mMph0iD"
      }
    },
    {
      "cell_type": "code",
      "source": [
        "#Olhar novamente se foi trocado os tipos.\n",
        "for field in df.schema.fields:\n",
        "  print(field.name + \" , \" + str(field.dataType))"
      ],
      "metadata": {
        "colab": {
          "base_uri": "https://localhost:8080/"
        },
        "id": "gdZvxC7moBz8",
        "outputId": "4c2f0d8c-be34-4b67-c4c6-9a65211013e9"
      },
      "execution_count": 14,
      "outputs": [
        {
          "output_type": "stream",
          "name": "stdout",
          "text": [
            "Title , StringType()\n",
            "Genre , StringType()\n",
            "GenreLabels , StringType()\n",
            "Premiere , TimestampType()\n",
            "Seasons , StringType()\n",
            "SeasonsParsed , LongType()\n",
            "EpisodesParsed , LongType()\n",
            "Length , StringType()\n",
            "MinLength , LongType()\n",
            "MaxLength , LongType()\n",
            "Status , StringType()\n",
            "Active , LongType()\n",
            "Table , StringType()\n",
            "Language , StringType()\n",
            "dt_inclusao , TimestampType()\n"
          ]
        }
      ]
    },
    {
      "cell_type": "markdown",
      "source": [
        " Podemos notar que foi trocado o tipo como pedido\n",
        "\n",
        " <b> FIM DO PROBLEMA 1. <b>"
      ],
      "metadata": {
        "id": "R9ls8oaYiYUL"
      }
    },
    {
      "cell_type": "markdown",
      "source": [
        "# 3 - Problema número 3. \n",
        "\n",
        "3- Remover linhas duplicadas e trocar o resultado das linhas que tiverem a coluna \"Seasons\" de \"TBA\" para \"a ser anunciado\"\n",
        "\n",
        "Vamos separar o problema em  partes:\n",
        "\n",
        "- Ver se temos linhas duplicadas.\n",
        "- Trocar \"TBA\" para a \"a ser anunciado\" \n",
        "\n"
      ],
      "metadata": {
        "id": "T6JKj0K7oMU2"
      }
    },
    {
      "cell_type": "code",
      "source": [
        "#Ver se temos linhas duplicadas.\n",
        "if df.count() > df.dropDuplicates([\"Title\"]).count():\n",
        "    raise ValueError('Data has duplicates')"
      ],
      "metadata": {
        "id": "CESbe1AwjemL"
      },
      "execution_count": 15,
      "outputs": []
    },
    {
      "cell_type": "markdown",
      "source": [
        "Podemos notar que não tivemos nenhum alerta, ou seja, não temos linhas duplicadas."
      ],
      "metadata": {
        "id": "TOJiflNGj-5a"
      }
    },
    {
      "cell_type": "code",
      "source": [
        "#Trocar \"TBA\" para a \"a ser anunciado\"\n",
        "df = df.withColumn(\"Seasons\", when(df.Seasons == \"TBA\",\"a ser anunciado\").otherwise(df.Seasons))"
      ],
      "metadata": {
        "id": "A0H_GSb1j-gv"
      },
      "execution_count": 17,
      "outputs": []
    },
    {
      "cell_type": "markdown",
      "source": [
        "\n",
        " <b> FIM DO PROBLEMA 3. <b>"
      ],
      "metadata": {
        "id": "c1DH7D2hkYzo"
      }
    },
    {
      "cell_type": "markdown",
      "source": [
        "# 4 - Problema número 4. \n",
        "\n",
        "4 - Criar uma coluna nova chamada `Data de Alteração` e dentro dela um timestamp.\n",
        "\n",
        "Vamos separar o problema em  partes:\n",
        "\n",
        "- Criar a nova coluna com timestamp.\n",
        "- Olhar visualmente se houve a alteração "
      ],
      "metadata": {
        "id": "oHDn7bMxke0C"
      }
    },
    {
      "cell_type": "code",
      "source": [
        "df = df.withColumn(\"Data de Alteração\", current_timestamp())\n",
        "df.show()"
      ],
      "metadata": {
        "colab": {
          "base_uri": "https://localhost:8080/"
        },
        "id": "ZXgG4BLwjfrK",
        "outputId": "941f384a-5099-4915-fbc1-928a4f0e4811"
      },
      "execution_count": 18,
      "outputs": [
        {
          "output_type": "stream",
          "name": "stdout",
          "text": [
            "+--------------------+--------------------+--------------------+-------------------+--------------------+-------------+--------------+-----------+---------+---------+----------+------+-----+--------+-------------------+--------------------+\n",
            "|               Title|               Genre|         GenreLabels|           Premiere|             Seasons|SeasonsParsed|EpisodesParsed|     Length|MinLength|MaxLength|    Status|Active|Table|Language|        dt_inclusao|   Data de Alteração|\n",
            "+--------------------+--------------------+--------------------+-------------------+--------------------+-------------+--------------+-----------+---------+---------+----------+------+-----+--------+-------------------+--------------------+\n",
            "|      House of Cards|     Political drama|     political,drama|2013-02-01 00:00:00|6 seasons, 73 epi...|            6|            73| 42–59 min.|       42|       59|     Ended|     0|Drama| English|2021-03-17 00:20:24|2023-04-20 16:52:...|\n",
            "|       Hemlock Grove|     Horror/thriller|     horror,thriller|2013-04-19 00:00:00|3 seasons, 33 epi...|            3|            33| 45–58 min.|       45|       58|     Ended|     0|Drama| English|2021-03-17 00:20:24|2023-04-20 16:52:...|\n",
            "|Orange Is the New...|        Comedy-drama|        comedy-drama|2013-07-11 00:00:00|6 seasons, 78 epi...|            6|            78| 50–92 min.|       50|       92|   Renewed|     1|Drama| English|2021-03-17 00:20:24|2023-04-20 16:52:...|\n",
            "|          Marco Polo|    Historical drama|    historical,drama|2014-12-12 00:00:00|2 seasons, 20 epi...|            2|            20| 48–65 min.|       48|       65|     Ended|     0|Drama| English|2021-03-17 00:20:24|2023-04-20 16:52:...|\n",
            "|           Bloodline|            Thriller|            thriller|2015-03-20 00:00:00|3 seasons, 33 epi...|            3|            33| 48–68 min.|       48|       68|     Ended|     0|Drama| English|2021-03-17 00:20:24|2023-04-20 16:52:...|\n",
            "|              Sense8|     Science fiction|     science-fiction|2015-06-05 00:00:00|2 seasons, 24 epi...|            2|            24|45–152 min.|       45|      152|     Ended|     0|Drama| English|2021-03-17 00:20:24|2023-04-20 16:52:...|\n",
            "|              Narcos|         Crime drama|         crime,drama|2015-08-28 00:00:00|3 seasons, 30 epi...|            3|            30| 43–60 min.|       43|       60|     Ended|     0|Drama| English|2021-03-17 00:20:24|2023-04-20 16:52:...|\n",
            "|     Stranger Things|Science fiction/h...|science-fiction,h...|2016-07-15 00:00:00|2 seasons, 17 epi...|            2|            17| 42–62 min.|       42|       62|   Renewed|     1|Drama| English|2021-03-17 00:20:24|2023-04-20 16:52:...|\n",
            "|        The Get Down|       Musical drama|       musical,drama|2016-08-12 00:00:00|2 parts, 11 episodes|            0|            11| 50–93 min.|       50|       93|     Ended|     0|Drama| English|2021-03-17 00:20:24|2023-04-20 16:52:...|\n",
            "|           The Crown|    Historical drama|    historical,drama|2016-11-04 00:00:00|2 seasons, 20 epi...|            2|            20| 54–61 min.|       54|       61|   Renewed|     1|Drama| English|2021-03-17 00:20:24|2023-04-20 16:52:...|\n",
            "|Gilmore Girls: A ...|        Family drama|        family,drama|2016-11-25 00:00:00|          4 episodes|            0|             4|88–102 min.|       88|      102|Miniseries|     0|Drama| English|2021-03-17 00:20:24|2023-04-20 16:52:...|\n",
            "|              The OA|             Mystery|             mystery|2016-12-16 00:00:00|2 parts, 16 episodes|            0|            16| 31–71 min.|       31|       71|   Pending|     1|Drama| English|2021-03-17 00:20:24|2023-04-20 16:52:...|\n",
            "|A Series of Unfor...|Black-comedy mystery|black-comedy,mystery|2017-01-13 00:00:00|3 seasons, 25 epi...|            3|            25| 36–64 min.|       36|       64|     Ended|     0|Drama| English|2021-03-17 00:20:24|2023-04-20 16:52:...|\n",
            "|      13 Reasons Why|  Teen drama/mystery|  teen,drama,mystery|2017-03-31 00:00:00|2 seasons, 26 epi...|            2|            26| 49–70 min.|       49|       70|   Renewed|     1|Drama| English|2021-03-17 00:20:24|2023-04-20 16:52:...|\n",
            "|               Gypsy|Psychological thr...|psychological,thr...|2017-06-30 00:00:00|1 season, 10 epis...|            1|            10| 46–58 min.|       46|       58|     Ended|     0|Drama| English|2021-03-17 00:20:24|2023-04-20 16:52:...|\n",
            "|               Ozark|         Crime drama|         crime,drama|2017-07-21 00:00:00|2 seasons, 20 epi...|            2|            20| 52–80 min.|       52|       80|   Renewed|     1|Drama| English|2021-03-17 00:20:24|2023-04-20 16:52:...|\n",
            "|          Mindhunter|         Crime drama|         crime,drama|2017-10-13 00:00:00|1 season, 10 epis...|            1|            10| 34–60 min.|       34|       60|   Renewed|     1|Drama| English|2021-03-17 00:20:24|2023-04-20 16:52:...|\n",
            "|             Godless|             Western|             western|2017-11-22 00:00:00|          7 episodes|            0|             7| 41–80 min.|       41|       80|Miniseries|     0|Drama| English|2021-03-17 00:20:24|2023-04-20 16:52:...|\n",
            "|      Altered Carbon|     Science fiction|     science-fiction|2018-02-02 00:00:00|1 season, 10 epis...|            1|            10| 46–66 min.|       46|       66|   Renewed|     1|Drama| English|2021-03-17 00:20:24|2023-04-20 16:52:...|\n",
            "|       Seven Seconds|         Crime drama|         crime,drama|2018-02-23 00:00:00|1 season, 10 epis...|            1|            10| 54–80 min.|       54|       80|     Ended|     0|Drama| English|2021-03-17 00:20:24|2023-04-20 16:52:...|\n",
            "+--------------------+--------------------+--------------------+-------------------+--------------------+-------------+--------------+-----------+---------+---------+----------+------+-----+--------+-------------------+--------------------+\n",
            "only showing top 20 rows\n",
            "\n"
          ]
        }
      ]
    },
    {
      "cell_type": "markdown",
      "source": [
        " <b> FIM DO PROBLEMA 4. <b>"
      ],
      "metadata": {
        "id": "bL6x7H20lLr0"
      }
    },
    {
      "cell_type": "markdown",
      "source": [
        "# 5 - Problema número 5. \n",
        "\n",
        "5 - Trocar os nomes das colunas de inglês para português.\n",
        "\n",
        "Vamos separar o problema em 2 partes:\n",
        "\n",
        "- Criar um dicionário, com as traduções e mudar na tabela\n",
        "- Olhar visualmente se houve a alteração "
      ],
      "metadata": {
        "id": "UTMw-VtilRgz"
      }
    },
    {
      "cell_type": "code",
      "source": [
        "# Criar um dicionário, com as traduções e mudar na tabela\n",
        "lookup= {\"Title\":\"Título\", \"Genre\": \"Gênero\", \"GenreLabels\": \"Rótulos Gênero\", \"Premiere\": \"Estreia\", \"Seasons\":\"Temporadas\",\n",
        "         \"SeasonsParsed\":\"TotalTemporadas\",  \"EpisodesParsed\":\"TotalEpisódios\",\"Length\":\"Duração\", \"MinLength\":\"DuraçãoMínima\",\n",
        "         \"MaxLength\":\"DuraçãoMáxima\", \"Status\":\"Status\", \"Active\":\"Ativo\", \"Table\":\"Faixa Etária\", \"Language\":\"Idioma\", \"dt_inclusao\":\"dt_inclusao\"}\n",
        "df = df.select([col(c).alias(lookup.get(c, c)) for c in df.columns])         "
      ],
      "metadata": {
        "id": "gn6oQ43rl4GF"
      },
      "execution_count": 20,
      "outputs": []
    },
    {
      "cell_type": "code",
      "source": [
        "#Olhar visualmente se houve a alteração\n",
        "df.show()"
      ],
      "metadata": {
        "colab": {
          "base_uri": "https://localhost:8080/"
        },
        "id": "cB33PjSFmI7N",
        "outputId": "4db5a44b-7fbb-4603-8160-a992b34399e2"
      },
      "execution_count": 21,
      "outputs": [
        {
          "output_type": "stream",
          "name": "stdout",
          "text": [
            "+--------------------+--------------------+--------------------+-------------------+--------------------+---------------+--------------+-----------+-------------+-------------+----------+-----+------------+-------+-------------------+--------------------+\n",
            "|              Título|              Gênero|      Rótulos Gênero|            Estreia|          Temporadas|TotalTemporadas|TotalEpisódios|    Duração|DuraçãoMínima|DuraçãoMáxima|    Status|Ativo|Faixa Etária| Idioma|        dt_inclusao|   Data de Alteração|\n",
            "+--------------------+--------------------+--------------------+-------------------+--------------------+---------------+--------------+-----------+-------------+-------------+----------+-----+------------+-------+-------------------+--------------------+\n",
            "|      House of Cards|     Political drama|     political,drama|2013-02-01 00:00:00|6 seasons, 73 epi...|              6|            73| 42–59 min.|           42|           59|     Ended|    0|       Drama|English|2021-03-17 00:20:24|2023-04-20 16:57:...|\n",
            "|       Hemlock Grove|     Horror/thriller|     horror,thriller|2013-04-19 00:00:00|3 seasons, 33 epi...|              3|            33| 45–58 min.|           45|           58|     Ended|    0|       Drama|English|2021-03-17 00:20:24|2023-04-20 16:57:...|\n",
            "|Orange Is the New...|        Comedy-drama|        comedy-drama|2013-07-11 00:00:00|6 seasons, 78 epi...|              6|            78| 50–92 min.|           50|           92|   Renewed|    1|       Drama|English|2021-03-17 00:20:24|2023-04-20 16:57:...|\n",
            "|          Marco Polo|    Historical drama|    historical,drama|2014-12-12 00:00:00|2 seasons, 20 epi...|              2|            20| 48–65 min.|           48|           65|     Ended|    0|       Drama|English|2021-03-17 00:20:24|2023-04-20 16:57:...|\n",
            "|           Bloodline|            Thriller|            thriller|2015-03-20 00:00:00|3 seasons, 33 epi...|              3|            33| 48–68 min.|           48|           68|     Ended|    0|       Drama|English|2021-03-17 00:20:24|2023-04-20 16:57:...|\n",
            "|              Sense8|     Science fiction|     science-fiction|2015-06-05 00:00:00|2 seasons, 24 epi...|              2|            24|45–152 min.|           45|          152|     Ended|    0|       Drama|English|2021-03-17 00:20:24|2023-04-20 16:57:...|\n",
            "|              Narcos|         Crime drama|         crime,drama|2015-08-28 00:00:00|3 seasons, 30 epi...|              3|            30| 43–60 min.|           43|           60|     Ended|    0|       Drama|English|2021-03-17 00:20:24|2023-04-20 16:57:...|\n",
            "|     Stranger Things|Science fiction/h...|science-fiction,h...|2016-07-15 00:00:00|2 seasons, 17 epi...|              2|            17| 42–62 min.|           42|           62|   Renewed|    1|       Drama|English|2021-03-17 00:20:24|2023-04-20 16:57:...|\n",
            "|        The Get Down|       Musical drama|       musical,drama|2016-08-12 00:00:00|2 parts, 11 episodes|              0|            11| 50–93 min.|           50|           93|     Ended|    0|       Drama|English|2021-03-17 00:20:24|2023-04-20 16:57:...|\n",
            "|           The Crown|    Historical drama|    historical,drama|2016-11-04 00:00:00|2 seasons, 20 epi...|              2|            20| 54–61 min.|           54|           61|   Renewed|    1|       Drama|English|2021-03-17 00:20:24|2023-04-20 16:57:...|\n",
            "|Gilmore Girls: A ...|        Family drama|        family,drama|2016-11-25 00:00:00|          4 episodes|              0|             4|88–102 min.|           88|          102|Miniseries|    0|       Drama|English|2021-03-17 00:20:24|2023-04-20 16:57:...|\n",
            "|              The OA|             Mystery|             mystery|2016-12-16 00:00:00|2 parts, 16 episodes|              0|            16| 31–71 min.|           31|           71|   Pending|    1|       Drama|English|2021-03-17 00:20:24|2023-04-20 16:57:...|\n",
            "|A Series of Unfor...|Black-comedy mystery|black-comedy,mystery|2017-01-13 00:00:00|3 seasons, 25 epi...|              3|            25| 36–64 min.|           36|           64|     Ended|    0|       Drama|English|2021-03-17 00:20:24|2023-04-20 16:57:...|\n",
            "|      13 Reasons Why|  Teen drama/mystery|  teen,drama,mystery|2017-03-31 00:00:00|2 seasons, 26 epi...|              2|            26| 49–70 min.|           49|           70|   Renewed|    1|       Drama|English|2021-03-17 00:20:24|2023-04-20 16:57:...|\n",
            "|               Gypsy|Psychological thr...|psychological,thr...|2017-06-30 00:00:00|1 season, 10 epis...|              1|            10| 46–58 min.|           46|           58|     Ended|    0|       Drama|English|2021-03-17 00:20:24|2023-04-20 16:57:...|\n",
            "|               Ozark|         Crime drama|         crime,drama|2017-07-21 00:00:00|2 seasons, 20 epi...|              2|            20| 52–80 min.|           52|           80|   Renewed|    1|       Drama|English|2021-03-17 00:20:24|2023-04-20 16:57:...|\n",
            "|          Mindhunter|         Crime drama|         crime,drama|2017-10-13 00:00:00|1 season, 10 epis...|              1|            10| 34–60 min.|           34|           60|   Renewed|    1|       Drama|English|2021-03-17 00:20:24|2023-04-20 16:57:...|\n",
            "|             Godless|             Western|             western|2017-11-22 00:00:00|          7 episodes|              0|             7| 41–80 min.|           41|           80|Miniseries|    0|       Drama|English|2021-03-17 00:20:24|2023-04-20 16:57:...|\n",
            "|      Altered Carbon|     Science fiction|     science-fiction|2018-02-02 00:00:00|1 season, 10 epis...|              1|            10| 46–66 min.|           46|           66|   Renewed|    1|       Drama|English|2021-03-17 00:20:24|2023-04-20 16:57:...|\n",
            "|       Seven Seconds|         Crime drama|         crime,drama|2018-02-23 00:00:00|1 season, 10 epis...|              1|            10| 54–80 min.|           54|           80|     Ended|    0|       Drama|English|2021-03-17 00:20:24|2023-04-20 16:57:...|\n",
            "+--------------------+--------------------+--------------------+-------------------+--------------------+---------------+--------------+-----------+-------------+-------------+----------+-----+------------+-------+-------------------+--------------------+\n",
            "only showing top 20 rows\n",
            "\n"
          ]
        }
      ]
    },
    {
      "cell_type": "markdown",
      "source": [
        " <b> FIM DO PROBLEMA 5. <b>"
      ],
      "metadata": {
        "id": "M77FXZ9CmqDr"
      }
    },
    {
      "cell_type": "markdown",
      "source": [
        "# 6 - Problema número 2. \n",
        "\n",
        "2 - Ordenar os dados por ativos e gênero de forma descrescente, 0 = inativo e 1 = ativo, todos com número 1 devem apararecer primeiro\n",
        "\n",
        "Vamos separar o problema em uma parte:\n",
        "\n",
        "- Ordenar como pedido e olhar se está ok.\n",
        "\n",
        "*Este problema foi jogado para final devido ao processamento paralelo."
      ],
      "metadata": {
        "id": "RYc7zxnRm1Zf"
      }
    },
    {
      "cell_type": "code",
      "source": [
        "#Ordenar como pedido e olhar se está ok.\n",
        "df = df.orderBy(col(\"Ativo\").desc(),col(\"Gênero\").desc())\n",
        "df.show()"
      ],
      "metadata": {
        "id": "X-0DIL9CoNuh",
        "colab": {
          "base_uri": "https://localhost:8080/"
        },
        "outputId": "3310d89f-c5f6-4303-8420-ffc9b4bc6a07"
      },
      "execution_count": 23,
      "outputs": [
        {
          "output_type": "stream",
          "name": "stdout",
          "text": [
            "+--------------------+--------------------+--------------------+-------------------+--------------------+---------------+--------------+----------+-------------+-------------+-------+-----+------------+-------+-------------------+--------------------+\n",
            "|              Título|              Gênero|      Rótulos Gênero|            Estreia|          Temporadas|TotalTemporadas|TotalEpisódios|   Duração|DuraçãoMínima|DuraçãoMáxima| Status|Ativo|Faixa Etária| Idioma|        dt_inclusao|   Data de Alteração|\n",
            "+--------------------+--------------------+--------------------+-------------------+--------------------+---------------+--------------+----------+-------------+-------------+-------+-----+------------+-------+-------------------+--------------------+\n",
            "|Dance & Sing with...|chrildrens musica...|chrildrens,musica...|2018-05-18 00:00:00|1 season, 11 epis...|              1|            11|    2 min.|            2|            2|Pending|    1|    Children|English|2021-03-17 00:20:24|2023-04-20 17:05:...|\n",
            "|Super Monsters Mo...|chrildrens musica...|chrildrens,musica...|2018-09-14 00:00:00|1 season, 4 episodes|              1|             4|    2 min.|            2|            2|Pending|    1|    Children|English|2021-03-17 00:20:24|2023-04-20 17:05:...|\n",
            "|          True Tunes|chrildrens musica...|chrildrens,musica...|2019-07-12 00:00:00|     a ser anunciado|              0|             0|       TBA|            0|            0|Pending|    1|    Children|English|2021-03-17 00:20:24|2023-04-20 17:05:...|\n",
            "|      Super Monsters| childrens-animation| childrens-animation|2017-10-13 00:00:00|2 seasons, 16 epi...|              2|            16|22–23 min.|           22|           23|Renewed|    1|    Children|English|2021-03-17 00:20:24|2023-04-20 17:05:...|\n",
            "|Charlie's Colorfo...| childrens-animation| childrens-animation|2019-03-22 00:00:00|1 season, 13 epis...|              1|            13|   25 min.|           25|           25|Pending|    1|    Children|English|2021-03-17 00:20:24|2023-04-20 17:05:...|\n",
            "|Stretch Armstrong...| childrens-animation| childrens-animation|2017-11-17 00:00:00|2 seasons, 23 epi...|              2|            23|   23 min.|           23|           23|Pending|    1|    Children|English|2021-03-17 00:20:24|2023-04-20 17:05:...|\n",
            "|          The Hollow| childrens-animation| childrens-animation|2018-06-08 00:00:00|1 season, 10 epis...|              1|            10|   24 min.|           24|           24|Renewed|    1|    Children|English|2021-03-17 00:20:24|2023-04-20 17:05:...|\n",
            "|YooHoo to the Rescue| childrens-animation| childrens-animation|2019-03-15 00:00:00|1 season, 26 epis...|              1|            26|13–14 min.|           13|           14|Pending|    1|    Children|English|2021-03-17 00:20:24|2023-04-20 17:05:...|\n",
            "|Harvey Girls Fore...| childrens-animation| childrens-animation|2018-06-29 00:00:00|2 seasons, 26 epi...|              2|            26|   24 min.|           24|           24|Pending|    1|    Children|English|2021-03-17 00:20:24|2023-04-20 17:05:...|\n",
            "|Cupcake & Dino: G...| childrens-animation| childrens-animation|2018-07-27 00:00:00|2 seasons, 26 epi...|              2|            26|22–23 min.|           22|           23|Pending|    1|    Children|English|2021-03-17 00:20:24|2023-04-20 17:05:...|\n",
            "|     Carmen Sandiego| childrens-animation| childrens-animation|2019-01-18 00:00:00|1 season, 9 episodes|              1|             9|23–33 min.|           23|           33|Renewed|    1|    Children|English|2021-03-17 00:20:24|2023-04-20 17:05:...|\n",
            "|   The Dragon Prince| childrens-animation| childrens-animation|2018-09-14 00:00:00|2 seasons, 18 epi...|              2|            18|25–27 min.|           25|           27|Renewed|    1|    Children|English|2021-03-17 00:20:24|2023-04-20 17:05:...|\n",
            "|   Ask the StoryBots| childrens-animation| childrens-animation|2016-08-12 00:00:00|2 seasons, 14 epi...|              2|            14|20–28 min.|           20|           28|Renewed|    1|    Children|English|2021-03-17 00:20:24|2023-04-20 17:05:...|\n",
            "|               Hilda| childrens-animation| childrens-animation|2018-09-21 00:00:00|1 season, 13 epis...|              1|            13|   24 min.|           24|           24|Renewed|    1|    Children|English|2021-03-17 00:20:24|2023-04-20 17:05:...|\n",
            "|  Spirit Riding Free| childrens-animation| childrens-animation|2017-05-05 00:00:00|8 seasons, 52 epi...|              8|            52|   23 min.|           23|           23|Pending|    1|    Children|English|2021-03-17 00:20:24|2023-04-20 17:05:...|\n",
            "|        Larva Island| childrens-animation| childrens-animation|2018-10-19 00:00:00|2 seasons, 26 epi...|              2|            26|    8 min.|            8|            8|Pending|    1|    Children|English|2021-03-17 00:20:24|2023-04-20 17:05:...|\n",
            "|         Llama Llama| childrens-animation| childrens-animation|2018-01-26 00:00:00|1 season, 15 epis...|              1|            15|   24 min.|           24|           24|Renewed|    1|    Children|English|2021-03-17 00:20:24|2023-04-20 17:05:...|\n",
            "|She-Ra and the Pr...| childrens-animation| childrens-animation|2018-11-13 00:00:00|2 seasons, 20 epi...|              2|            20|   24 min.|           24|           24|Renewed|    1|    Children|English|2021-03-17 00:20:24|2023-04-20 17:05:...|\n",
            "|Spy Kids: Mission...| childrens-animation| childrens-animation|2018-04-20 00:00:00|2 seasons, 20 epi...|              2|            20|23–25 min.|           23|           23|Pending|    1|    Children|English|2021-03-17 00:20:24|2023-04-20 17:05:...|\n",
            "|Kulipari: Dream W...| childrens-animation| childrens-animation|2018-11-20 00:00:00|1 season, 10 epis...|              1|            10|   23 min.|           23|           23|Pending|    1|    Children|English|2021-03-17 00:20:24|2023-04-20 17:05:...|\n",
            "+--------------------+--------------------+--------------------+-------------------+--------------------+---------------+--------------+----------+-------------+-------------+-------+-----+------------+-------+-------------------+--------------------+\n",
            "only showing top 20 rows\n",
            "\n"
          ]
        }
      ]
    },
    {
      "cell_type": "markdown",
      "source": [
        " <b> FIM DO PROBLEMA 2. <b>"
      ],
      "metadata": {
        "id": "ge8QGAo-nwSH"
      }
    },
    {
      "cell_type": "markdown",
      "source": [
        "# 7 - Problema número 6. \n",
        "\n",
        "6 - Testar e verificar se algum erro de processamento do spark e indentificar onde pode ter ocorrido o erro.\n",
        "\n",
        "Resposta: Podemos notar que se fizermos o problema de número 2 antes das outras mudanças, devido a característica o spark(paralelo), não veríamos a mudança de sort() realizada. Porém esse erro já fora tratado.\n",
        "\n",
        "<b> FIM DO PROBLEMA 6 </b>\n"
      ],
      "metadata": {
        "id": "-YGkJ5qapFJu"
      }
    },
    {
      "cell_type": "markdown",
      "source": [
        "# 8 - Problema número 7. \n",
        "\n",
        "7 - Criar apenas 1 `.csv` com seguintes colunas que foram nomeadas anteriormente \"Title, Genre, Seasons, Premiere, Language, Active, Status, dt_inclusao, Data de Alteraçao\" as colunas devem estar em português com header e separadas por `;`.\n",
        "\n",
        "\n",
        "Vamos separar o problema em 3 parte:\n",
        "\n",
        "- Criar uma nova variável com a colunas pedidas\n",
        "- Transformar o df para arquivo `.csv` e salvar na pasta do problema.\n",
        "- Subir o arquivo para o bucket\n"
      ],
      "metadata": {
        "id": "MXzL_g-1ql2z"
      }
    },
    {
      "cell_type": "code",
      "source": [
        "#Criar uma nova variável com a colunas pedidas.\n",
        "df2 = df.select('Título', 'Gênero', 'Estreia', 'Idioma', 'Ativo', 'Status', 'dt_inclusao', 'Data de Alteração')\n",
        "df2.show()"
      ],
      "metadata": {
        "colab": {
          "base_uri": "https://localhost:8080/"
        },
        "id": "gIZ_LBTpvPWy",
        "outputId": "de3c2735-c611-4343-9e85-e193dfa1d36b"
      },
      "execution_count": 25,
      "outputs": [
        {
          "output_type": "stream",
          "name": "stdout",
          "text": [
            "+--------------------+--------------------+-------------------+-------+-----+-------+-------------------+--------------------+\n",
            "|              Título|              Gênero|            Estreia| Idioma|Ativo| Status|        dt_inclusao|   Data de Alteração|\n",
            "+--------------------+--------------------+-------------------+-------+-----+-------+-------------------+--------------------+\n",
            "|Dance & Sing with...|chrildrens musica...|2018-05-18 00:00:00|English|    1|Pending|2021-03-17 00:20:24|2023-04-20 17:40:...|\n",
            "|Super Monsters Mo...|chrildrens musica...|2018-09-14 00:00:00|English|    1|Pending|2021-03-17 00:20:24|2023-04-20 17:40:...|\n",
            "|          True Tunes|chrildrens musica...|2019-07-12 00:00:00|English|    1|Pending|2021-03-17 00:20:24|2023-04-20 17:40:...|\n",
            "|      Super Monsters| childrens-animation|2017-10-13 00:00:00|English|    1|Renewed|2021-03-17 00:20:24|2023-04-20 17:40:...|\n",
            "|Charlie's Colorfo...| childrens-animation|2019-03-22 00:00:00|English|    1|Pending|2021-03-17 00:20:24|2023-04-20 17:40:...|\n",
            "|Stretch Armstrong...| childrens-animation|2017-11-17 00:00:00|English|    1|Pending|2021-03-17 00:20:24|2023-04-20 17:40:...|\n",
            "|          The Hollow| childrens-animation|2018-06-08 00:00:00|English|    1|Renewed|2021-03-17 00:20:24|2023-04-20 17:40:...|\n",
            "|YooHoo to the Rescue| childrens-animation|2019-03-15 00:00:00|English|    1|Pending|2021-03-17 00:20:24|2023-04-20 17:40:...|\n",
            "|Harvey Girls Fore...| childrens-animation|2018-06-29 00:00:00|English|    1|Pending|2021-03-17 00:20:24|2023-04-20 17:40:...|\n",
            "|Cupcake & Dino: G...| childrens-animation|2018-07-27 00:00:00|English|    1|Pending|2021-03-17 00:20:24|2023-04-20 17:40:...|\n",
            "|     Carmen Sandiego| childrens-animation|2019-01-18 00:00:00|English|    1|Renewed|2021-03-17 00:20:24|2023-04-20 17:40:...|\n",
            "|   The Dragon Prince| childrens-animation|2018-09-14 00:00:00|English|    1|Renewed|2021-03-17 00:20:24|2023-04-20 17:40:...|\n",
            "|   Ask the StoryBots| childrens-animation|2016-08-12 00:00:00|English|    1|Renewed|2021-03-17 00:20:24|2023-04-20 17:40:...|\n",
            "|               Hilda| childrens-animation|2018-09-21 00:00:00|English|    1|Renewed|2021-03-17 00:20:24|2023-04-20 17:40:...|\n",
            "|  Spirit Riding Free| childrens-animation|2017-05-05 00:00:00|English|    1|Pending|2021-03-17 00:20:24|2023-04-20 17:40:...|\n",
            "|        Larva Island| childrens-animation|2018-10-19 00:00:00|English|    1|Pending|2021-03-17 00:20:24|2023-04-20 17:40:...|\n",
            "|         Llama Llama| childrens-animation|2018-01-26 00:00:00|English|    1|Renewed|2021-03-17 00:20:24|2023-04-20 17:40:...|\n",
            "|She-Ra and the Pr...| childrens-animation|2018-11-13 00:00:00|English|    1|Renewed|2021-03-17 00:20:24|2023-04-20 17:40:...|\n",
            "|Spy Kids: Mission...| childrens-animation|2018-04-20 00:00:00|English|    1|Pending|2021-03-17 00:20:24|2023-04-20 17:40:...|\n",
            "|Kulipari: Dream W...| childrens-animation|2018-11-20 00:00:00|English|    1|Pending|2021-03-17 00:20:24|2023-04-20 17:40:...|\n",
            "+--------------------+--------------------+-------------------+-------+-----+-------+-------------------+--------------------+\n",
            "only showing top 20 rows\n",
            "\n"
          ]
        }
      ]
    },
    {
      "cell_type": "code",
      "source": [
        "#Transformar o df2 para arquivo.csv e salvar na pasta do problema\n",
        "df2.toPandas().to_csv(\"resultfinalconfitec.csv\",sep=\";\",index=False)\n",
        "!ls"
      ],
      "metadata": {
        "colab": {
          "base_uri": "https://localhost:8080/"
        },
        "id": "7aDErDsF8v1I",
        "outputId": "1c54a0e4-7074-4f45-a259-c648777ad326"
      },
      "execution_count": 26,
      "outputs": [
        {
          "output_type": "stream",
          "name": "stdout",
          "text": [
            "OriginaisNetflix.parquet  resultfinalconfitec.csv\n"
          ]
        }
      ]
    },
    {
      "cell_type": "code",
      "source": [
        "#Subir o arquivo para o bucket\n",
        "s3.upload_file(\"resultfinalconfitec.csv\",\"testeconfitec\",\"resultfinalconfitec.csv\")"
      ],
      "metadata": {
        "id": "4H3xKUze7G6C"
      },
      "execution_count": 27,
      "outputs": []
    },
    {
      "cell_type": "code",
      "source": [
        "from IPython.display import Image\n",
        "Image(\"Captura de tela 2023-04-20 144543.png\")"
      ],
      "metadata": {
        "colab": {
          "base_uri": "https://localhost:8080/",
          "height": 588
        },
        "id": "q1oL8IdTxx-S",
        "outputId": "c5d6966d-116e-4a8b-ea68-02b00a902f52"
      },
      "execution_count": 31,
      "outputs": [
        {
          "output_type": "execute_result",
          "data": {
            "image/png": "[encoded data removed]",
            "text/plain": [
              "<IPython.core.display.Image object>"
            ]
          },
          "metadata": {},
          "execution_count": 31
        }
      ]
    },
    {
      "cell_type": "markdown",
      "source": [
        "# Fim do desafio.\n",
        "\n",
        "Obs: Para segurança do bucket , a chave descrita não é a utilizada."
      ],
      "metadata": {
        "id": "9Z57MzRuzFEg"
      }
    }
  ]
}